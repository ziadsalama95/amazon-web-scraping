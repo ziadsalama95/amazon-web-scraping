{
 "cells": [
  {
   "cell_type": "markdown",
   "id": "5e5fe120",
   "metadata": {
    "tags": []
   },
   "source": [
    "# Amazon Product Scraper\n",
    "This notebook demonstrates a web scraping tool designed to extract product data from Amazon Egypt using Python. It leverages libraries like `requests` and `BeautifulSoup` to fetch and parse the HTML content of Amazon product pages."
   ]
  },
  {
   "cell_type": "markdown",
   "id": "6f7c6840",
   "metadata": {
    "tags": []
   },
   "source": [
    "## Prerequisites\n",
    "Before running the code, make sure you have the following libraries installed:\n",
    "- `requests`\n",
    "- `beautifulsoup4`\n",
    "- `pandas`\n",
    "\n",
    "You can install these packages using pip:\n",
    "```bash\n",
    "pip install requests beautifulsoup4 pandas\n",
    "```"
   ]
  },
  {
   "cell_type": "code",
   "execution_count": 4,
   "id": "69715902",
   "metadata": {
    "tags": []
   },
   "outputs": [],
   "source": [
    "import requests\n",
    "import functions as fn\n",
    "import pandas as pd\n",
    "from bs4 import BeautifulSoup"
   ]
  },
  {
   "cell_type": "markdown",
   "id": "cc19d204",
   "metadata": {
    "tags": []
   },
   "source": [
    "## Setup\n",
    "Define the URL, headers and search parameters for the scraping session."
   ]
  },
  {
   "cell_type": "code",
   "execution_count": 6,
   "id": "e8c1aa6e",
   "metadata": {
    "tags": []
   },
   "outputs": [],
   "source": [
    "url = 'https://www.amazon.eg/s'\n",
    "headers = ({\n",
    "    'User-Agent': 'Mozilla/5.0 (Windows NT 10.0; Win64; x64) AppleWebKit/537.36 (KHTML, like Gecko) Chrome/91.0.4472.124 Safari/537.36',\n",
    "    'Accept-Language': 'en-US, en;q=0.5'\n",
    "})"
   ]
  },
  {
   "cell_type": "markdown",
   "id": "ed1e352a-3aa0-4aa9-9bc2-332acc6948a3",
   "metadata": {},
   "source": [
    "## Input Instructions\n",
    "\n",
    "Please provide the following inputs for the web scraping process:\n",
    "\n",
    "- **search**: Enter the product you're looking for.\n",
    "- **max_results**: Enter the maximum number of products to retrieve."
   ]
  },
  {
   "cell_type": "code",
   "execution_count": 8,
   "id": "96b844f0-2ff5-4416-be3d-7d190cf64941",
   "metadata": {
    "tags": []
   },
   "outputs": [],
   "source": [
    "search = 'apple watch'\n",
    "max_results = 50"
   ]
  },
  {
   "cell_type": "markdown",
   "id": "ea9c63ce",
   "metadata": {
    "tags": []
   },
   "source": [
    "## Scraping Logic\n",
    "The following code handles the scraping process by iterating through pages and extracting relevant product information. The process continues until the desired number of products is scraped or no more products are found."
   ]
  },
  {
   "cell_type": "code",
   "execution_count": 10,
   "id": "96aa625f",
   "metadata": {
    "tags": []
   },
   "outputs": [],
   "source": [
    "page = 1\n",
    "products = []\n",
    "while len(products) < max_results:\n",
    "\n",
    "    try:\n",
    "        webpage = requests.get(url, headers=headers, params={'k': search, 'page': page})\n",
    "        webpage.raise_for_status()  # Raise an error for bad responses (4xx and 5xx)\n",
    "    except requests.exceptions.RequestException as e:\n",
    "        print(f\"Request failed: {e}\")\n",
    "        break\n",
    "\n",
    "    soup = BeautifulSoup(webpage.content, \"html.parser\")\n",
    "    containers = soup.findAll('div', {'class': 'sg-col-4-of-24 sg-col-4-of-12 s-result-item s-asin sg-col-4-of-16 sg-col s-widget-spacing-small sg-col-4-of-20'})\n",
    "\n",
    "    if not containers:\n",
    "        print(\"No more products found\")\n",
    "        break\n",
    "\n",
    "    for container in containers:\n",
    "        product_name = fn.get_product_name(container)\n",
    "        product_rating = fn.get_product_rating(container)\n",
    "        product_nreviews = fn.get_product_nreviews(container)\n",
    "        product_price = fn.get_product_price(container)\n",
    "\n",
    "        products.append({\n",
    "            'Name': product_name,\n",
    "            'Price (EGP)': product_price,\n",
    "            'Rating': product_rating,\n",
    "            'Reviews': product_nreviews,\n",
    "        })\n",
    "\n",
    "        if len(products) >= max_results:\n",
    "            break\n",
    "\n",
    "    page += 1\n"
   ]
  },
  {
   "cell_type": "markdown",
   "id": "eaacd384",
   "metadata": {},
   "source": [
    "## Saving the Data\n",
    "Once the data is scraped, it can be saved to a CSV file for further analysis or use."
   ]
  },
  {
   "cell_type": "code",
   "execution_count": 12,
   "id": "8bd996c0",
   "metadata": {
    "tags": []
   },
   "outputs": [
    {
     "data": {
      "text/html": [
       "<div>\n",
       "<style scoped>\n",
       "    .dataframe tbody tr th:only-of-type {\n",
       "        vertical-align: middle;\n",
       "    }\n",
       "\n",
       "    .dataframe tbody tr th {\n",
       "        vertical-align: top;\n",
       "    }\n",
       "\n",
       "    .dataframe thead th {\n",
       "        text-align: right;\n",
       "    }\n",
       "</style>\n",
       "<table border=\"1\" class=\"dataframe\">\n",
       "  <thead>\n",
       "    <tr style=\"text-align: right;\">\n",
       "      <th></th>\n",
       "      <th>Name</th>\n",
       "      <th>Price (EGP)</th>\n",
       "      <th>Rating</th>\n",
       "      <th>Reviews</th>\n",
       "    </tr>\n",
       "  </thead>\n",
       "  <tbody>\n",
       "    <tr>\n",
       "      <th>0</th>\n",
       "      <td>ساعة يد ذكية آبل ووتش الفئة 9 بتقنية تحديد الم...</td>\n",
       "      <td>21450.00</td>\n",
       "      <td>4.7</td>\n",
       "      <td>493</td>\n",
       "    </tr>\n",
       "    <tr>\n",
       "      <th>1</th>\n",
       "      <td>ساعة آبل الذكية سيريز 9 بسوار رياضي وهيكل ألوم...</td>\n",
       "      <td>19950.00</td>\n",
       "      <td>4.7</td>\n",
       "      <td>96</td>\n",
       "    </tr>\n",
       "    <tr>\n",
       "      <th>2</th>\n",
       "      <td>ساعة ابل ووتش اس اي مع نظام تحديد الموقع مقاس ...</td>\n",
       "      <td>15950.00</td>\n",
       "      <td>4.6</td>\n",
       "      <td>32</td>\n",
       "    </tr>\n",
       "    <tr>\n",
       "      <th>3</th>\n",
       "      <td>ابل ساعة اس اي جي بي اس 44 ملم بهيكل الومنيوم ...</td>\n",
       "      <td>15950.00</td>\n",
       "      <td>4.6</td>\n",
       "      <td>96</td>\n",
       "    </tr>\n",
       "    <tr>\n",
       "      <th>4</th>\n",
       "      <td>ابل ساعة اس اي (الجيل الثاني) جي بي اس 44 ملم ...</td>\n",
       "      <td>None</td>\n",
       "      <td>4.5</td>\n",
       "      <td>43</td>\n",
       "    </tr>\n",
       "  </tbody>\n",
       "</table>\n",
       "</div>"
      ],
      "text/plain": [
       "                                                Name Price (EGP) Rating  \\\n",
       "0  ساعة يد ذكية آبل ووتش الفئة 9 بتقنية تحديد الم...    21450.00    4.7   \n",
       "1  ساعة آبل الذكية سيريز 9 بسوار رياضي وهيكل ألوم...    19950.00    4.7   \n",
       "2  ساعة ابل ووتش اس اي مع نظام تحديد الموقع مقاس ...    15950.00    4.6   \n",
       "3  ابل ساعة اس اي جي بي اس 44 ملم بهيكل الومنيوم ...    15950.00    4.6   \n",
       "4  ابل ساعة اس اي (الجيل الثاني) جي بي اس 44 ملم ...        None    4.5   \n",
       "\n",
       "  Reviews  \n",
       "0     493  \n",
       "1      96  \n",
       "2      32  \n",
       "3      96  \n",
       "4      43  "
      ]
     },
     "execution_count": 12,
     "metadata": {},
     "output_type": "execute_result"
    }
   ],
   "source": [
    "df = pd.DataFrame(products)\n",
    "df.to_csv('data/products.csv', index=False)\n",
    "df.head()"
   ]
  }
 ],
 "metadata": {
  "kernelspec": {
   "display_name": "Python 3 (ipykernel)",
   "language": "python",
   "name": "python3"
  },
  "language_info": {
   "codemirror_mode": {
    "name": "ipython",
    "version": 3
   },
   "file_extension": ".py",
   "mimetype": "text/x-python",
   "name": "python",
   "nbconvert_exporter": "python",
   "pygments_lexer": "ipython3",
   "version": "3.11.7"
  }
 },
 "nbformat": 4,
 "nbformat_minor": 5
}
